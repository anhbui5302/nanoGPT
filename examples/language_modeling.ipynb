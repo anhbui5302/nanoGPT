{
  "cells": [
    {
      "cell_type": "markdown",
      "metadata": {
        "id": "view-in-github",
        "colab_type": "text"
      },
      "source": [
        "<a href=\"https://colab.research.google.com/github/anhbui5302/nanoGPT/blob/master/examples/language_modeling.ipynb\" target=\"_parent\"><img src=\"https://colab.research.google.com/assets/colab-badge.svg\" alt=\"Open In Colab\"/></a>"
      ]
    },
    {
      "cell_type": "markdown",
      "metadata": {
        "id": "X4cRE8IbIrIV"
      },
      "source": [
        "If you're opening this Notebook on colab, you will probably need to install 🤗 Transformers and 🤗 Datasets. Uncomment the following cell and run it."
      ]
    },
    {
      "cell_type": "code",
      "source": [
        "# Install required libraries\n",
        "!pip install -q -U transformers datasets accelerate peft bitsandbytes scikit-learn\n",
        "\n",
        "# Mount Google Drive\n",
        "from google.colab import drive\n",
        "drive.mount('/content/drive')"
      ],
      "metadata": {
        "id": "sp2a82OP4jNa"
      },
      "execution_count": null,
      "outputs": []
    },
    {
      "cell_type": "markdown",
      "source": [],
      "metadata": {
        "id": "PGLRbccfwb64"
      }
    },
    {
      "cell_type": "markdown",
      "metadata": {
        "id": "dIo2fdta0LlI"
      },
      "source": [
        "If you're opening this notebook locally, make sure your environment has an install from the last version of those libraries.\n",
        "\n",
        "To be able to share your model with the community and generate results like the one shown in the picture below via the inference API, there are a few more steps to follow.\n",
        "\n",
        "First you have to store your authentication token from the Hugging Face website (sign up [here](https://huggingface.co/join) if you haven't already!) then execute the following cell and input your username and password:"
      ]
    },
    {
      "cell_type": "code",
      "execution_count": null,
      "metadata": {
        "id": "MFTti0b20LlJ"
      },
      "outputs": [],
      "source": [
        "from huggingface_hub import notebook_login\n",
        "\n",
        "notebook_login()"
      ]
    },
    {
      "cell_type": "markdown",
      "metadata": {
        "id": "wLxftdFJ0LlJ"
      },
      "source": [
        "Then you need to install Git-LFS. Uncomment the following instructions:"
      ]
    },
    {
      "cell_type": "code",
      "execution_count": null,
      "metadata": {
        "id": "e1Qwfed70LlK"
      },
      "outputs": [],
      "source": [
        "!apt install git-lfs"
      ]
    },
    {
      "cell_type": "markdown",
      "metadata": {
        "id": "Tht-I-XE0LlL"
      },
      "source": [
        "Make sure your version of Transformers is at least 4.11.0 since the functionality was introduced in that version:"
      ]
    },
    {
      "cell_type": "code",
      "execution_count": null,
      "metadata": {
        "id": "BjvS2Kmv0LlM"
      },
      "outputs": [],
      "source": [
        "import transformers\n",
        "\n",
        "print(transformers.__version__)"
      ]
    },
    {
      "cell_type": "markdown",
      "metadata": {
        "id": "HFASsisvIrIb"
      },
      "source": [
        "You can find a script version of this notebook to fine-tune your model in a distributed fashion using multiple GPUs or TPUs [here](https://github.com/huggingface/transformers/tree/master/examples/language-modeling)."
      ]
    },
    {
      "cell_type": "markdown",
      "metadata": {
        "id": "IeXhoO4_0LlN"
      },
      "source": [
        "We also quickly upload some telemetry - this tells us which examples and software versions are getting used so we know where to prioritize our maintenance efforts. We don't collect (or care about) any personally identifiable information, but if you'd prefer not to be counted, feel free to skip this step or delete this cell entirely."
      ]
    },
    {
      "cell_type": "code",
      "execution_count": null,
      "metadata": {
        "id": "vSg3iUhT0LlN"
      },
      "outputs": [],
      "source": [
        "from transformers.utils import send_example_telemetry\n",
        "\n",
        "send_example_telemetry(\"language_modeling_notebook\", framework=\"pytorch\")"
      ]
    },
    {
      "cell_type": "markdown",
      "metadata": {
        "id": "a3KD3WXU3l-O"
      },
      "source": [
        "# Fine-tuning a language model"
      ]
    },
    {
      "cell_type": "markdown",
      "metadata": {
        "id": "JAscNNUD3l-P"
      },
      "source": [
        "In this notebook, we'll see how to fine-tune one of the [🤗 Transformers](https://github.com/huggingface/transformers) model on a language modeling tasks. We will cover two types of language modeling tasks which are:\n",
        "\n",
        "- Causal language modeling: the model has to predict the next token in the sentence (so the labels are the same as the inputs shifted to the right). To make sure the model does not cheat, it gets an attention mask that will prevent it to access the tokens after token i when trying to predict the token i+1 in the sentence.\n",
        "\n",
        "![Widget inference representing the causal language modeling task](https://github.com/huggingface/notebooks/blob/master/examples/images/causal_language_modeling.png?raw=1)\n",
        "\n",
        "- Masked language modeling: the model has to predict some tokens that are masked in the input. It still has access to the whole sentence, so it can use the tokens before and after the tokens masked to predict their value.\n",
        "\n",
        "![Widget inference representing the masked language modeling task](https://github.com/huggingface/notebooks/blob/master/examples/images/masked_language_modeling.png?raw=1)\n",
        "\n",
        "We will see how to easily load and preprocess the dataset for each one of those tasks, and how to use the `Trainer` API to fine-tune a model on it.\n",
        "\n",
        "A script version of this notebook you can directly run on a distributed environment or on TPU is available in our [examples folder](https://github.com/huggingface/transformers/tree/master/examples)."
      ]
    },
    {
      "cell_type": "markdown",
      "metadata": {
        "id": "1r_n9OWV3l-Q"
      },
      "source": [
        "## Preparing the dataset"
      ]
    },
    {
      "cell_type": "markdown",
      "metadata": {
        "id": "kswRMhPc3l-Q"
      },
      "source": [
        "For each of those tasks, we will use the [Wikitext 2]() dataset as an example. You can load it very easily with the 🤗 Datasets library."
      ]
    },
    {
      "cell_type": "code",
      "execution_count": null,
      "metadata": {
        "id": "n2ZRs1cL3l-R"
      },
      "outputs": [],
      "source": [
        "from datasets import load_dataset\n",
        "datasets = load_dataset('wikitext', 'wikitext-2-raw-v1')"
      ]
    },
    {
      "cell_type": "markdown",
      "metadata": {
        "id": "f1-9jepM3l-W"
      },
      "source": [
        "You can replace the dataset above with any dataset hosted on [the hub](https://huggingface.co/datasets) or use your own files. Just uncomment the following cell and replace the paths with values that will lead to your files:"
      ]
    },
    {
      "cell_type": "code",
      "execution_count": null,
      "metadata": {
        "id": "uxSaGa_l3l-W"
      },
      "outputs": [],
      "source": [
        "# datasets = load_dataset(\"text\", data_files={\"train\": path_to_train.txt, \"validation\": path_to_validation.txt}"
      ]
    },
    {
      "cell_type": "markdown",
      "metadata": {
        "id": "jY1SwIrY3l-a"
      },
      "source": [
        "You can also load datasets from a csv or a JSON file, see the [full documentation](https://huggingface.co/docs/datasets/loading_datasets.html#from-local-files) for more information."
      ]
    },
    {
      "cell_type": "markdown",
      "metadata": {
        "id": "u3EtYfeHIrIz"
      },
      "source": [
        "To access an actual element, you need to select a split first, then give an index:"
      ]
    },
    {
      "cell_type": "code",
      "execution_count": null,
      "metadata": {
        "id": "X6HrpprwIrIz"
      },
      "outputs": [],
      "source": [
        "datasets[\"train\"][10]"
      ]
    },
    {
      "cell_type": "markdown",
      "metadata": {
        "id": "WHUmphG3IrI3"
      },
      "source": [
        "To get a sense of what the data looks like, the following function will show some examples picked randomly in the dataset."
      ]
    },
    {
      "cell_type": "code",
      "execution_count": null,
      "metadata": {
        "id": "ur5sNUcZ3l-g"
      },
      "outputs": [],
      "source": [
        "from datasets import ClassLabel\n",
        "import random\n",
        "import pandas as pd\n",
        "from IPython.display import display, HTML\n",
        "\n",
        "def show_random_elements(dataset, num_examples=10):\n",
        "    assert num_examples <= len(dataset), \"Can't pick more elements than there are in the dataset.\"\n",
        "    picks = []\n",
        "    for _ in range(num_examples):\n",
        "        pick = random.randint(0, len(dataset)-1)\n",
        "        while pick in picks:\n",
        "            pick = random.randint(0, len(dataset)-1)\n",
        "        picks.append(pick)\n",
        "\n",
        "    df = pd.DataFrame(dataset[picks])\n",
        "    for column, typ in dataset.features.items():\n",
        "        if isinstance(typ, ClassLabel):\n",
        "            df[column] = df[column].transform(lambda i: typ.names[i])\n",
        "    display(HTML(df.to_html()))"
      ]
    },
    {
      "cell_type": "code",
      "execution_count": null,
      "metadata": {
        "id": "1Uk8NROQ3l-k"
      },
      "outputs": [],
      "source": [
        "show_random_elements(datasets[\"train\"])"
      ]
    },
    {
      "cell_type": "markdown",
      "metadata": {
        "id": "CKerdF353l-o"
      },
      "source": [
        "As we can see, some of the texts are a full paragraph of a Wikipedia article while others are just titles or empty lines."
      ]
    },
    {
      "cell_type": "markdown",
      "metadata": {
        "id": "JEA1ju653l-p"
      },
      "source": [
        "## Causal Language modeling"
      ]
    },
    {
      "cell_type": "markdown",
      "metadata": {
        "id": "v5GTGKZS3l-q"
      },
      "source": [
        "For causal language modeling (CLM) we are going to take all the texts in our dataset and concatenate them after they are tokenized. Then we will split them in examples of a certain sequence length. This way the model will receive chunks of contiguous text that may look like:\n",
        "```\n",
        "part of text 1\n",
        "```\n",
        "or\n",
        "```\n",
        "end of text 1 [BOS_TOKEN] beginning of text 2\n",
        "```\n",
        "depending on whether they span over several of the original texts in the dataset or not. The labels will be the same as the inputs, shifted to the left.\n",
        "\n",
        "We will use the [`distilgpt2`](https://huggingface.co/distilgpt2) model for this example. You can pick any of the checkpoints listed [here](https://huggingface.co/models?filter=causal-lm) instead:"
      ]
    },
    {
      "cell_type": "code",
      "execution_count": null,
      "metadata": {
        "id": "-WGBCO343l-q"
      },
      "outputs": [],
      "source": [
        "model_checkpoint = \"google/gemma-3-1b-it\""
      ]
    },
    {
      "cell_type": "markdown",
      "metadata": {
        "id": "5io6fY_d3l-u"
      },
      "source": [
        "To tokenize all our texts with the same vocabulary that was used when training the model, we have to download a pretrained tokenizer. This is all done by the `AutoTokenizer` class:"
      ]
    },
    {
      "cell_type": "code",
      "execution_count": null,
      "metadata": {
        "id": "iAYlS40Z3l-v"
      },
      "outputs": [],
      "source": [
        "from transformers import AutoTokenizer\n",
        "\n",
        "tokenizer = AutoTokenizer.from_pretrained(model_checkpoint)\n"
      ]
    },
    {
      "cell_type": "code",
      "source": [
        "tokenizer.pad_token"
      ],
      "metadata": {
        "id": "dyfDu9j85EUU"
      },
      "execution_count": null,
      "outputs": []
    },
    {
      "cell_type": "markdown",
      "metadata": {
        "id": "rpOiBrJ13l-y"
      },
      "source": [
        "We can now call the tokenizer on all our texts. This is very simple, using the [`map`](https://huggingface.co/docs/datasets/package_reference/main_classes.html#datasets.Dataset.map) method from the Datasets library. First we define a function that call the tokenizer on our texts:"
      ]
    },
    {
      "cell_type": "code",
      "execution_count": null,
      "metadata": {
        "id": "lS2m25YM3l-z"
      },
      "outputs": [],
      "source": [
        "def tokenize_function(examples):\n",
        "    # If the tokenizer doesn't have a pad token, add one.\n",
        "    if tokenizer.pad_token is None:\n",
        "        tokenizer.add_special_tokens({'pad_token': '[PAD]'})\n",
        "    return tokenizer(examples[\"text\"])"
      ]
    },
    {
      "cell_type": "markdown",
      "metadata": {
        "id": "M9xVAa3s3l-2"
      },
      "source": [
        "Then we apply it to all the splits in our `datasets` object, using `batched=True` and 4 processes to speed up the preprocessing. We won't need the `text` column afterward, so we discard it."
      ]
    },
    {
      "cell_type": "code",
      "execution_count": null,
      "metadata": {
        "id": "NVAO0H8u3l-3"
      },
      "outputs": [],
      "source": [
        "tokenized_datasets = datasets.map(tokenize_function, batched=True, num_proc=4, remove_columns=[\"text\"])"
      ]
    },
    {
      "cell_type": "markdown",
      "metadata": {
        "id": "8qik3J_C3l-7"
      },
      "source": [
        "If we now look at an element of our datasets, we will see the text have been replaced by the `input_ids` the model will need:"
      ]
    },
    {
      "cell_type": "code",
      "execution_count": null,
      "metadata": {
        "id": "nYv_mcKk3l-7"
      },
      "outputs": [],
      "source": [
        "tokenized_datasets[\"train\"][1]"
      ]
    },
    {
      "cell_type": "markdown",
      "metadata": {
        "id": "obvgcXda3l--"
      },
      "source": [
        "Now for the harder part: we need to concatenate all our texts together then split the result in small chunks of a certain `block_size`. To do this, we will use the `map` method again, with the option `batched=True`. This option actually lets us change the number of examples in the datasets by returning a different number of examples than we got. This way, we can create our new samples from a batch of examples.\n",
        "\n",
        "First, we grab the maximum length our model was pretrained with. This might be a big too big to fit in your GPU RAM, so here we take a bit less at just 128."
      ]
    },
    {
      "cell_type": "code",
      "execution_count": null,
      "metadata": {
        "id": "DVHs5aCA3l-_"
      },
      "outputs": [],
      "source": [
        "# block_size = tokenizer.model_max_length\n",
        "block_size = 128"
      ]
    },
    {
      "cell_type": "markdown",
      "metadata": {
        "id": "RpNfGiMw3l_A"
      },
      "source": [
        "Then we write the preprocessing function that will group our texts:"
      ]
    },
    {
      "cell_type": "code",
      "execution_count": null,
      "metadata": {
        "id": "iaAJy5Hu3l_B"
      },
      "outputs": [],
      "source": [
        "def group_texts(examples):\n",
        "    # Concatenate all texts.\n",
        "    concatenated_examples = {k: sum(examples[k], []) for k in examples.keys()}\n",
        "    total_length = len(concatenated_examples[list(examples.keys())[0]])\n",
        "    # We drop the small remainder, we could add padding if the model supported it instead of this drop, you can\n",
        "        # customize this part to your needs.\n",
        "    total_length = (total_length // block_size) * block_size\n",
        "    # Split by chunks of max_len.\n",
        "    result = {\n",
        "        k: [t[i : i + block_size] for i in range(0, total_length, block_size)]\n",
        "        for k, t in concatenated_examples.items()\n",
        "    }\n",
        "    result[\"labels\"] = result[\"input_ids\"].copy()\n",
        "    return result"
      ]
    },
    {
      "cell_type": "markdown",
      "metadata": {
        "id": "LGJWXtNv3l_C"
      },
      "source": [
        "First note that we duplicate the inputs for our labels. This is because the model of the 🤗 Transformers library apply the shifting to the right, so we don't need to do it manually.\n",
        "\n",
        "Also note that by default, the `map` method will send a batch of 1,000 examples to be treated by the preprocessing function. So here, we will drop the remainder to make the concatenated tokenized texts a multiple of `block_size` every 1,000 examples. You can adjust this behavior by passing a higher batch size (which will also be processed slower). You can also speed-up the preprocessing by using multiprocessing:"
      ]
    },
    {
      "cell_type": "code",
      "execution_count": null,
      "metadata": {
        "id": "gXUSfBrq3l_C"
      },
      "outputs": [],
      "source": [
        "lm_datasets = tokenized_datasets.map(\n",
        "    group_texts,\n",
        "    batched=True,\n",
        "    batch_size=1000,\n",
        "    num_proc=4,\n",
        ")"
      ]
    },
    {
      "cell_type": "markdown",
      "metadata": {
        "id": "6n84V8Gc3l_G"
      },
      "source": [
        "And we can check our datasets have changed: now the samples contain chunks of `block_size` contiguous tokens, potentially spanning over several of our original texts."
      ]
    },
    {
      "cell_type": "code",
      "execution_count": null,
      "metadata": {
        "id": "hTeGCLl_3l_G"
      },
      "outputs": [],
      "source": [
        "tokenizer.decode(lm_datasets[\"train\"][1][\"input_ids\"])"
      ]
    },
    {
      "cell_type": "code",
      "source": [
        "import torch\n",
        "from transformers import BitsAndBytesConfig\n",
        "\n",
        "quantization_config = BitsAndBytesConfig(\n",
        "    load_in_4bit=True,\n",
        "    bnb_4bit_quant_type=\"nf4\",\n",
        "    bnb_4bit_compute_dtype=torch.bfloat16 # Use bfloat16 for faster computation\n",
        ")"
      ],
      "metadata": {
        "id": "tIE2nGit6yj6"
      },
      "execution_count": null,
      "outputs": []
    },
    {
      "cell_type": "markdown",
      "metadata": {
        "id": "iEmeQ7Xm3l_H"
      },
      "source": [
        "Now that the data has been cleaned, we're ready to instantiate our `Trainer`. We will a model:"
      ]
    },
    {
      "cell_type": "code",
      "execution_count": null,
      "metadata": {
        "id": "sPqQA3TT3l_I"
      },
      "outputs": [],
      "source": [
        "from transformers import AutoModelForCausalLM\n",
        "\n",
        "model = AutoModelForCausalLM.from_pretrained(\n",
        "    model_checkpoint,\n",
        "    quantization_config=quantization_config,\n",
        "    device_map=\"auto\", # Automatically maps the model to the available devices (GPU)\n",
        "    attn_implementation=\"eager\"\n",
        ")"
      ]
    },
    {
      "cell_type": "code",
      "source": [
        "from peft import LoraConfig, get_peft_model, prepare_model_for_kbit_training\n",
        "\n",
        "model = prepare_model_for_kbit_training(model)\n",
        "\n",
        "# This configures the LoRA adapter layers\n",
        "lora_config = LoraConfig(\n",
        "    r=16, # The rank of the update matrices. Lower rank means fewer trainable parameters.\n",
        "    lora_alpha=32, # A scaling factor for the LoRA weights.\n",
        "    target_modules=[\"q_proj\", \"k_proj\", \"v_proj\", \"o_proj\"], # The modules to apply LoRA to.\n",
        "    lora_dropout=0.05,\n",
        "    bias=\"none\",\n",
        "    task_type=\"CAUSAL_LM\"\n",
        ")\n",
        "\n",
        "# Wrap the model with PEFT\n",
        "model = get_peft_model(model, lora_config)\n",
        "\n",
        "# It's good practice to check the number of trainable parameters\n",
        "model.print_trainable_parameters()\n"
      ],
      "metadata": {
        "id": "ciEyvacx7YyM"
      },
      "execution_count": null,
      "outputs": []
    },
    {
      "cell_type": "markdown",
      "metadata": {
        "id": "VyPQTOF_3l_J"
      },
      "source": [
        "And some `TrainingArguments`:"
      ]
    },
    {
      "cell_type": "code",
      "execution_count": null,
      "metadata": {
        "id": "jElf8LJ33l_K"
      },
      "outputs": [],
      "source": [
        "from transformers import Trainer, TrainingArguments"
      ]
    },
    {
      "cell_type": "code",
      "execution_count": null,
      "metadata": {
        "id": "YbSwEhQ63l_L"
      },
      "outputs": [],
      "source": [
        "model_name = model_checkpoint.split(\"/\")[-1]\n",
        "training_args = TrainingArguments(\n",
        "    output_dir=f\"{model_name}-finetuned-wikitext2\",\n",
        "    per_device_train_batch_size=4,  # <-- Reduce batch size\n",
        "    gradient_accumulation_steps=4, # <-- Use gradient accumulation\n",
        "    learning_rate=2e-4,\n",
        "    eval_strategy=\"epoch\",\n",
        "    logging_steps=100,\n",
        "    num_train_epochs=1, # Adjust as needed\n",
        "    weight_decay=0.01,\n",
        "    push_to_hub=True, # Set to True if you want to push to Hugging Face Hub\n",
        "    fp16=True, # Use mixed precision training\n",
        ")"
      ]
    },
    {
      "cell_type": "markdown",
      "metadata": {
        "id": "DdAm3Z-50Llb"
      },
      "source": [
        "The last argument to setup everything so we can push the model to the [Hub](https://huggingface.co/models) regularly during training. Remove it if you didn't follow the installation steps at the top of the notebook. If you want to save your model locally in a name that is different than the name of the repository it will be pushed, or if you want to push your model under an organization and not your name space, use the `hub_model_id` argument to set the repo name (it needs to be the full name, including your namespace: for instance `\"sgugger/gpt-finetuned-wikitext2\"` or `\"huggingface/gpt-finetuned-wikitext2\"`)."
      ]
    },
    {
      "cell_type": "markdown",
      "metadata": {
        "id": "sZRbT9ui3l_N"
      },
      "source": [
        "We pass along all of those to the `Trainer` class:"
      ]
    },
    {
      "cell_type": "code",
      "execution_count": null,
      "metadata": {
        "id": "OEuqwIra3l_N"
      },
      "outputs": [],
      "source": [
        "trainer = Trainer(\n",
        "    model=model,\n",
        "    args=training_args,\n",
        "    train_dataset=lm_datasets[\"train\"],\n",
        "    eval_dataset=lm_datasets[\"validation\"],\n",
        ")"
      ]
    },
    {
      "cell_type": "markdown",
      "metadata": {
        "id": "6Vvz34Td3l_O"
      },
      "source": [
        "And we can train our model:"
      ]
    },
    {
      "cell_type": "code",
      "execution_count": null,
      "metadata": {
        "id": "NyZvu_MF3l_P",
        "collapsed": true
      },
      "outputs": [],
      "source": [
        "trainer.train()"
      ]
    },
    {
      "cell_type": "markdown",
      "metadata": {
        "id": "3APq-vUc3l_R"
      },
      "source": [
        "Once the training is completed, we can evaluate our model and get its perplexity on the validation set like this:"
      ]
    },
    {
      "cell_type": "code",
      "execution_count": null,
      "metadata": {
        "id": "diKZnB1I3l_R"
      },
      "outputs": [],
      "source": [
        "import math\n",
        "eval_results = trainer.evaluate()\n",
        "print(f\"Perplexity: {math.exp(eval_results['eval_loss']):.2f}\")"
      ]
    },
    {
      "cell_type": "markdown",
      "metadata": {
        "id": "wY82caEX3l_i"
      },
      "source": [
        "You can now upload the result of the training to the Hub, just execute this instruction:"
      ]
    },
    {
      "cell_type": "code",
      "execution_count": null,
      "metadata": {
        "id": "nJ4KHFus0Lld"
      },
      "outputs": [],
      "source": [
        "trainer.push_to_hub()"
      ]
    },
    {
      "cell_type": "code",
      "source": [],
      "metadata": {
        "id": "9yqDJnhhwXM6"
      },
      "execution_count": null,
      "outputs": []
    },
    {
      "cell_type": "markdown",
      "metadata": {
        "id": "qoGcwvLr0Lld"
      },
      "source": [
        "You can now share this model with all your friends, family, favorite pets: they can all load it with the identifier `\"your-username/the-name-you-picked\"` so for instance:\n",
        "\n",
        "```python\n",
        "from transformers import AutoModelForCausalLM\n",
        "\n",
        "model = AutoModelForCausalLM.from_pretrained(\"sgugger/my-awesome-model\")\n",
        "```"
      ]
    },
    {
      "cell_type": "markdown",
      "source": [
        "# Classifier Finetune"
      ],
      "metadata": {
        "id": "ukPcN0Ka0YVS"
      }
    },
    {
      "cell_type": "code",
      "source": [
        "# Install required libraries\n",
        "!pip install -q -U transformers datasets accelerate peft bitsandbytes scikit-learn unsloth\n",
        "\n",
        "# Mount Google Drive\n",
        "from google.colab import drive\n",
        "drive.mount('/content/drive')"
      ],
      "metadata": {
        "id": "iFr8p-8x0b-o"
      },
      "execution_count": null,
      "outputs": []
    },
    {
      "cell_type": "code",
      "source": [
        "from huggingface_hub import notebook_login\n",
        "\n",
        "notebook_login()"
      ],
      "metadata": {
        "id": "exdv1ljR1uuv"
      },
      "execution_count": null,
      "outputs": []
    },
    {
      "cell_type": "code",
      "source": [
        "from datasets import load_dataset, concatenate_datasets, DatasetDict\n",
        "\n",
        "# --- 1. Load your .jsonl data directly using the datasets library ---\n",
        "# Make sure to change the file paths to where you've stored your files.\n",
        "relevant_path = '/content/drive/MyDrive/classifier_finetune/training_data_relevant_unique_500.jsonl'\n",
        "irrelevant_path = '/content/drive/MyDrive/classifier_finetune/training_data_irrelevant_unique_500.jsonl'\n",
        "\n",
        "# load_dataset with the 'json' type can handle .jsonl files automatically.\n",
        "relevant_dataset = load_dataset('json', data_files=relevant_path, split='train')\n",
        "irrelevant_dataset = load_dataset('json', data_files=irrelevant_path, split='train')\n",
        "\n",
        "# --- 2. Combine, shuffle, and format the data ---\n",
        "# Combine the two datasets into one\n",
        "full_dataset = concatenate_datasets([relevant_dataset, irrelevant_dataset])\n",
        "\n",
        "# Shuffle the combined dataset to mix relevant and irrelevant samples\n",
        "full_dataset = full_dataset.shuffle(seed=42)\n",
        "\n",
        "# This function converts one of your JSON objects into a single string.\n",
        "# (This function is the same as before)\n",
        "def create_prompt(sample):\n",
        "    prompt = \"### INSTRUCTION\\n\"\n",
        "    prompt += \"Classify the user's message as RELEVANT or IRRELEVANT to the math problem and conversation history.\\n\\n\"\n",
        "\n",
        "    # The data is now nested under a 'context' key, so we access it like sample['context']['problem']\n",
        "    prompt += \"### MATH PROBLEM\\n\"\n",
        "    prompt += f\"Problem: {sample['context']['problem']}\\n\"\n",
        "    prompt += f\"Solution: {sample['context']['solution']}\\n\\n\"\n",
        "\n",
        "    prompt += \"### CONVERSATION HISTORY\\n\"\n",
        "    for message in sample['history']:\n",
        "        role = \"AI Tutor\" if message['role'] == 'ai' else \"Student\"\n",
        "        prompt += f\"{role}: {message['content']}\\n\"\n",
        "    prompt += \"\\n\"\n",
        "\n",
        "    prompt += \"### USER MESSAGE\\n\"\n",
        "    prompt += f\"{sample['user_message']}\\n\\n\"\n",
        "\n",
        "    prompt += \"### CLASSIFICATION\\n\"\n",
        "    return prompt\n",
        "\n",
        "# Apply the formatting function to create a new 'prompt' column\n",
        "# We keep the 'label' column for the next step.\n",
        "def format_dataset(example):\n",
        "    example['prompt'] = create_prompt(example)\n",
        "    return example\n",
        "\n",
        "full_dataset = full_dataset.map(format_dataset)\n",
        "\n",
        "# --- 3. Split the data into training and testing sets ---\n",
        "# An 80/20 or 90/10 split is common.\n",
        "final_datasets = full_dataset.train_test_split(test_size=0.1)\n",
        "\n",
        "print(\"Training set size:\", len(final_datasets['train']))\n",
        "print(\"Test set size:\", len(final_datasets['test']))\n",
        "print(\"\\nExample of a formatted prompt:\")\n",
        "print(final_datasets['train'][0]['prompt'])\n",
        "print(\"\\nExample label:\", final_datasets['train'][0]['label'])"
      ],
      "metadata": {
        "id": "ej5TOW580dRN"
      },
      "execution_count": null,
      "outputs": []
    },
    {
      "cell_type": "code",
      "source": [
        "from transformers import AutoTokenizer\n",
        "\n",
        "model_checkpoint = \"google/gemma-3-1b-it\"\n",
        "tokenizer = AutoTokenizer.from_pretrained(model_checkpoint)\n",
        "print(tokenizer.pad_token)\n",
        "\n",
        "def preprocess_function(samples):\n",
        "    inputs = []\n",
        "    for prompt, label in zip(samples['prompt'], samples['label']):\n",
        "        inputs.append(prompt + label)\n",
        "\n",
        "    model_inputs = tokenizer(inputs, max_length=1024, truncation=True, padding=\"longest\")\n",
        "    model_inputs[\"labels\"] = model_inputs[\"input_ids\"].copy()\n",
        "\n",
        "    for i, prompt in enumerate(samples['prompt']):\n",
        "        prompt_ids = tokenizer(prompt, max_length=1024, truncation=True)[\"input_ids\"]\n",
        "        model_inputs[\"labels\"][i][:len(prompt_ids)] = [-100] * len(prompt_ids)\n",
        "\n",
        "    return model_inputs\n",
        "\n",
        "tokenized_datasets = final_datasets.map(preprocess_function, batched=True, remove_columns=final_datasets['train'].column_names)"
      ],
      "metadata": {
        "id": "iGsiZmEO1h8O"
      },
      "execution_count": null,
      "outputs": []
    },
    {
      "cell_type": "code",
      "source": [
        "# --- The Final, Corrected Preprocessing Function ---\n",
        "\n",
        "from transformers import AutoTokenizer\n",
        "import numpy as np # Make sure to import numpy\n",
        "\n",
        "model_checkpoint = \"google/gemma-3-1b-it\"\n",
        "tokenizer = AutoTokenizer.from_pretrained(model_checkpoint)\n",
        "\n",
        "tokenizer.padding_side = \"right\"\n",
        "tokenizer.pad_token = tokenizer.eos_token\n",
        "\n",
        "def preprocess_function(samples):\n",
        "    inputs = [prompt + label for prompt, label in zip(samples['prompt'], samples['label'])]\n",
        "    model_inputs = tokenizer(inputs, max_length=512, truncation=True, padding=\"longest\")\n",
        "    labels_batch = np.array(model_inputs[\"input_ids\"])\n",
        "    padding_mask = np.array(model_inputs[\"attention_mask\"]) == 0\n",
        "    labels_batch[padding_mask] = -100\n",
        "    for i, prompt in enumerate(samples['prompt']):\n",
        "        prompt_ids = tokenizer(prompt, max_length=512, truncation=True)[\"input_ids\"]\n",
        "        prompt_len = len(prompt_ids)\n",
        "        labels_batch[i, :prompt_len] = -100\n",
        "    model_inputs[\"labels\"] = labels_batch.tolist()\n",
        "    return model_inputs\n",
        "\n",
        "tokenized_datasets = final_datasets.map(preprocess_function, batched=True, remove_columns=final_datasets['train'].column_names)"
      ],
      "metadata": {
        "id": "uW-6nVqGEdvg"
      },
      "execution_count": null,
      "outputs": []
    },
    {
      "cell_type": "code",
      "source": [
        "from datasets import load_dataset, concatenate_datasets, DatasetDict\n",
        "from transformers import AutoTokenizer\n",
        "import numpy as np\n",
        "\n",
        "# --- 1. Load your .jsonl data ---\n",
        "# This part remains the same.\n",
        "relevant_path = '/content/drive/MyDrive/classifier_finetune/training_data_relevant_unique_500.jsonl'\n",
        "irrelevant_path = '/content/drive/MyDrive/classifier_finetune/training_data_irrelevant_unique_500.jsonl'\n",
        "\n",
        "relevant_dataset = load_dataset('json', data_files=relevant_path, split='train')\n",
        "irrelevant_dataset = load_dataset('json', data_files=irrelevant_path, split='train')\n",
        "\n",
        "# --- 2. Combine and shuffle the data ---\n",
        "# This part remains the same.\n",
        "full_dataset = concatenate_datasets([relevant_dataset, irrelevant_dataset])\n",
        "full_dataset = full_dataset.shuffle(seed=42)\n",
        "\n",
        "# --- 3. Split the data into training and testing sets ---\n",
        "# We split the raw data first.\n",
        "final_datasets = full_dataset.train_test_split(test_size=0.1)\n",
        "\n",
        "\n",
        "# --- 4. Load the tokenizer ---\n",
        "# The tokenizer is needed to apply the model's specific chat template.\n",
        "# Note: This will be loaded again by Unsloth, which is fine. We need it here for formatting.\n",
        "model_checkpoint = \"google/gemma-3-1b-it\"\n",
        "tokenizer = AutoTokenizer.from_pretrained(model_checkpoint)\n",
        "\n",
        "\n",
        "# --- 5. Format the dataset using the official chat template ---\n",
        "# This single function replaces your old create_prompt, format_dataset,\n",
        "# and preprocess_function.\n",
        "def format_chat_template(example):\n",
        "    # The history and context are formatted as a single \"user\" turn.\n",
        "    messages = [\n",
        "        {\n",
        "            \"role\": \"user\",\n",
        "            \"content\": (\n",
        "                \"Classify the user's message as RELEVANT or IRRELEVANT to the math problem and conversation history.\\n\\n\"\n",
        "                \"### MATH PROBLEM\\n\"\n",
        "                f\"Problem: {example['context']['problem']}\\n\"\n",
        "                f\"Solution: {example['context']['solution']}\\n\\n\"\n",
        "                \"### CONVERSATION HISTORY\\n\" +\n",
        "                \"\".join(\n",
        "                    f\"{'AI Tutor' if msg['role'] == 'ai' else 'Student'}: {msg['content']}\\n\"\n",
        "                    for msg in example['history']\n",
        "                ) + \"\\n\"\n",
        "                \"### USER MESSAGE\\n\"\n",
        "                f\"{example['user_message']}\"\n",
        "            )\n",
        "        },\n",
        "        # The assistant's label is the response it is being taught to generate.\n",
        "        {\n",
        "            \"role\": \"assistant\",\n",
        "            \"content\": example['label']\n",
        "        }\n",
        "    ]\n",
        "    # The tokenizer handles adding all the special tokens like '<start_of_turn>' and '<end_of_turn>'.\n",
        "    # We create a new column called \"text\" which contains the fully formatted string.\n",
        "    return {\"text\": tokenizer.apply_chat_template(messages, tokenize=False, add_generation_prompt=False)}\n",
        "\n",
        "# Apply the new formatting function to our datasets.\n",
        "# Unsloth will handle the tokenization internally during training.\n",
        "formatted_datasets = final_datasets.map(format_chat_template)\n",
        "\n",
        "# --- 6. Verify the new format ---\n",
        "# We print the output to see the result of the new formatting.\n",
        "print(\"Training set size:\", len(formatted_datasets['train']))\n",
        "print(\"Test set size:\", len(formatted_datasets['test']))\n",
        "print(\"\\nExample of a formatted prompt from the 'text' column:\")\n",
        "print(formatted_datasets['train'][0]['text'])\n",
        "\n",
        "# The 'formatted_datasets' object is now ready to be passed directly into the Trainer.\n",
        "# Make sure to use dataset_text_field=\"text\" in your Trainer arguments."
      ],
      "metadata": {
        "id": "8102u3UHiHOU"
      },
      "execution_count": null,
      "outputs": []
    },
    {
      "cell_type": "code",
      "source": [
        "import numpy as np\n",
        "import matplotlib.pyplot as plt\n",
        "\n",
        "def analyze_token_lengths(dataset, tokenizer, text_column=\"text\"):\n",
        "    \"\"\"\n",
        "    Calculates, prints statistics, and plots the distribution of token lengths\n",
        "    for a given Hugging Face dataset.\n",
        "\n",
        "    Args:\n",
        "        dataset (datasets.Dataset): The dataset to analyze (e.g., formatted_datasets['train']).\n",
        "        tokenizer (transformers.PreTrainedTokenizer): The tokenizer for converting text to tokens.\n",
        "        text_column (str): The name of the column in the dataset that contains the text.\n",
        "    \"\"\"\n",
        "    # Use the efficient .map() function to tokenize and get the length of each input\n",
        "    # This is much faster than iterating through the dataset in a loop.\n",
        "    token_lengths = dataset.map(\n",
        "        lambda example: {'length': len(tokenizer(example[text_column]).input_ids)},\n",
        "        num_proc=4  # Use multiple processes to speed up the calculation\n",
        "    )['length']\n",
        "\n",
        "    token_lengths = np.array(token_lengths)\n",
        "\n",
        "    # --- Calculate and Print Statistics ---\n",
        "    print(\"--- Token Length Analysis ---\")\n",
        "    print(f\"Total examples: {len(token_lengths)}\")\n",
        "    print(f\"Min token length:    {np.min(token_lengths)}\")\n",
        "    print(f\"Max token length:    {np.max(token_lengths)}\")\n",
        "    print(f\"Mean token length:   {np.mean(token_lengths):.2f}\")\n",
        "    print(f\"Median token length: {np.median(token_lengths)}\")\n",
        "    print(\"\\n--- Percentiles ---\")\n",
        "    print(f\"90th percentile: {np.percentile(token_lengths, 90):.0f}\")\n",
        "    print(f\"95th percentile: {np.percentile(token_lengths, 95):.0f}\")\n",
        "    print(f\"99th percentile: {np.percentile(token_lengths, 99):.0f}\")\n",
        "    print(\"-\" * 29)\n",
        "    print(f\"\\nThis analysis helps you choose an optimal `max_seq_length`.\")\n",
        "    print(f\"Your current max_seq_length is set to 512.\")\n",
        "    print(f\"Examples longer than this will be truncated.\")\n",
        "    print(\"-\" * 29)\n",
        "\n",
        "\n",
        "    # --- Plot the Histogram ---\n",
        "    plt.figure(figsize=(12, 6))\n",
        "    plt.hist(token_lengths, bins=50, alpha=0.75, color='royalblue', edgecolor='black')\n",
        "    plt.axvline(np.mean(token_lengths), color='red', linestyle='dashed', linewidth=2, label=f'Mean: {np.mean(token_lengths):.2f}')\n",
        "    plt.axvline(np.percentile(token_lengths, 95), color='orange', linestyle='dashed', linewidth=2, label=f'95th Percentile: {np.percentile(token_lengths, 95):.0f}')\n",
        "    plt.title('Distribution of Input Token Lengths')\n",
        "    plt.xlabel('Token Length')\n",
        "    plt.ylabel('Frequency (Number of Examples)')\n",
        "    plt.legend()\n",
        "    plt.grid(axis='y', alpha=0.75)\n",
        "    plt.show()\n",
        "\n",
        "\n",
        "# --- Example of how to call the function ---\n",
        "# Make sure this is placed AFTER you have created your `formatted_datasets`\n",
        "# and loaded your `tokenizer`.\n",
        "\n",
        "print(\"Analyzing the training set:\")\n",
        "analyze_token_lengths(formatted_datasets['train'], tokenizer)\n",
        "\n",
        "print(\"\\nAnalyzing the test set:\")\n",
        "analyze_token_lengths(formatted_datasets['test'], tokenizer)"
      ],
      "metadata": {
        "id": "4b7p6A8SszEx"
      },
      "execution_count": null,
      "outputs": []
    },
    {
      "cell_type": "code",
      "source": [
        "import numpy as np\n",
        "from sklearn.metrics import accuracy_score, precision_score, recall_score, f1_score\n",
        "\n",
        "\n",
        "def preprocess_logits_for_metrics(logits, labels):\n",
        "    if isinstance(logits, tuple):\n",
        "        logits = logits[0]\n",
        "    return logits.argmax(dim=-1)\n",
        "\n",
        "# Using your preferred, explicit metric calculation\n",
        "def compute_metrics(eval_pred):\n",
        "    preds, labels = eval_pred\n",
        "    decoded_preds = tokenizer.batch_decode(preds, skip_special_tokens=True)\n",
        "    labels[labels == -100] = tokenizer.pad_token_id\n",
        "    decoded_labels = tokenizer.batch_decode(labels, skip_special_tokens=True)\n",
        "\n",
        "    decoded_preds = [pred.strip() for pred in decoded_preds]\n",
        "    decoded_labels = [label.strip() for label in decoded_labels]\n",
        "    decoded_preds = [pred if pred else \"__empty__\" for pred in decoded_preds] # Handle empty predictions\n",
        "\n",
        "    # Use the individual score functions as you requested\n",
        "    precision = precision_score(decoded_labels, decoded_preds, average='binary', pos_label='RELEVANT', zero_division=0)\n",
        "    recall = recall_score(decoded_labels, decoded_preds, average='binary', pos_label='RELEVANT', zero_division=0)\n",
        "    f1 = f1_score(decoded_labels, decoded_preds, average='binary', pos_label='RELEVANT', zero_division=0)\n",
        "    acc = accuracy_score(decoded_labels, decoded_preds)\n",
        "\n",
        "    return {'accuracy': acc, 'f1': f1, 'precision': precision, 'recall': recall}"
      ],
      "metadata": {
        "id": "FklStVE61izK"
      },
      "execution_count": null,
      "outputs": []
    },
    {
      "cell_type": "code",
      "source": [
        "import torch\n",
        "from transformers import AutoModelForCausalLM, TrainingArguments, Trainer, BitsAndBytesConfig\n",
        "from peft import LoraConfig, get_peft_model, prepare_model_for_kbit_training\n",
        "\n",
        "# QLoRA configuration\n",
        "quantization_config = BitsAndBytesConfig(\n",
        "    load_in_4bit=True,\n",
        "    bnb_4bit_quant_type=\"nf4\",\n",
        "    bnb_4bit_compute_dtype=torch.bfloat16\n",
        ")\n",
        "\n",
        "# Load the quantized model\n",
        "model = AutoModelForCausalLM.from_pretrained(\n",
        "    model_checkpoint,\n",
        "    quantization_config=quantization_config,\n",
        "    device_map=\"auto\",\n",
        "    attn_implementation=\"eager\"\n",
        ")\n",
        "\n",
        "# Make sure the model knows the new pad token\n",
        "model.resize_token_embeddings(len(tokenizer))\n",
        "\n",
        "# Prepare model for PEFT\n",
        "model = prepare_model_for_kbit_training(model)\n",
        "\n",
        "# LoRA configuration\n",
        "lora_config = LoraConfig(\n",
        "    r=16,\n",
        "    lora_alpha=32,\n",
        "    target_modules=[\"q_proj\", \"k_proj\", \"v_proj\", \"o_proj\"],\n",
        "    lora_dropout=0.05,\n",
        "    bias=\"none\",\n",
        "    task_type=\"CAUSAL_LM\"\n",
        ")\n",
        "model = get_peft_model(model, lora_config)\n",
        "model.print_trainable_parameters()\n",
        "\n",
        "model_name = model_checkpoint.split(\"/\")[-1]\n",
        "# Training Arguments\n",
        "training_args = TrainingArguments(\n",
        "    output_dir=f\"{model_name}-classifier-finetune\",\n",
        "    per_device_train_batch_size=1,\n",
        "    gradient_accumulation_steps=16,\n",
        "    learning_rate=2e-4,\n",
        "    num_train_epochs=3, # You can start with 3-5 epochs for a small dataset\n",
        "    logging_steps=25,\n",
        "    gradient_checkpointing=True,\n",
        "    optim=\"paged_adamw_8bit\",\n",
        "    fp16=True,\n",
        "    push_to_hub=True, # Set to True if you want to push to Hugging Face Hub\n",
        "    # Evaluation settings\n",
        "    eval_strategy=\"epoch\",\n",
        "    save_strategy=\"epoch\",\n",
        "    load_best_model_at_end=True,\n",
        ")\n",
        "\n",
        "# Trainer\n",
        "trainer = Trainer(\n",
        "    model=model,\n",
        "    args=training_args,\n",
        "    train_dataset=tokenized_datasets[\"train\"],\n",
        "    eval_dataset=tokenized_datasets[\"test\"],\n",
        "    tokenizer=tokenizer,\n",
        "    compute_metrics=compute_metrics, # Pass in our new metrics function\n",
        ")"
      ],
      "metadata": {
        "id": "T842Yyk71mE0"
      },
      "execution_count": null,
      "outputs": []
    },
    {
      "cell_type": "code",
      "source": [
        "import torch\n",
        "import unsloth\n",
        "import numpy as np\n",
        "from transformers import AutoTokenizer, TrainingArguments, Trainer\n",
        "from datasets import load_dataset, concatenate_datasets\n",
        "from trl import SFTTrainer\n",
        "\n",
        "\n",
        "model, tokenizer = unsloth.FastLanguageModel.from_pretrained(\n",
        "    model_name = model_checkpoint,\n",
        "    max_seq_length = 512,\n",
        "    dtype = None, # Will auto-detect torch.bfloat16 if available\n",
        "    load_in_4bit = True,\n",
        ")\n",
        "\n",
        "model = unsloth.FastLanguageModel.get_peft_model(\n",
        "    model,\n",
        "    r = 16,\n",
        "    target_modules = [\"q_proj\", \"k_proj\", \"v_proj\", \"o_proj\"],\n",
        "    lora_alpha = 32,\n",
        "    lora_dropout = 0.05,\n",
        "    bias = \"none\",\n",
        "    task_type = \"CAUSAL_LM\",\n",
        ")\n",
        "model.print_trainable_parameters()\n",
        "\n",
        "model_name = model_checkpoint.split(\"/\")[-1]\n",
        "# Training Arguments\n",
        "training_args = TrainingArguments(\n",
        "    output_dir=f\"{model_name}-classifier-finetune\",\n",
        "    num_train_epochs=3,\n",
        "    per_device_train_batch_size = 1,  # We can likely go back to 2 now!\n",
        "    gradient_accumulation_steps = 16, # Effective batch size is still 16\n",
        "    gradient_checkpointing = True,   # Keep this for extra safety\n",
        "    optim=\"adamw_8bit\", # Unsloth works great with 8bit optimizers\n",
        "    learning_rate=2e-4,\n",
        "    logging_steps=25,\n",
        "    fp16 = not torch.cuda.is_bf16_supported(), # Use bf16 if available, else fp16\n",
        "    bf16 = torch.cuda.is_bf16_supported(),\n",
        "    push_to_hub=True,\n",
        "    eval_strategy=\"epoch\",\n",
        "    save_strategy=\"epoch\",\n",
        "    load_best_model_at_end=True,\n",
        ")\n",
        "\n",
        "trainer = SFTTrainer(\n",
        "    model=model,\n",
        "    args=training_args,\n",
        "    train_dataset=formatted_datasets[\"train\"],\n",
        "    eval_dataset=formatted_datasets[\"test\"],\n",
        "    dataset_text_field=\"text\",\n",
        "    max_seq_length=512,\n",
        "    tokenizer=tokenizer,\n",
        "    compute_metrics=compute_metrics,\n",
        "    preprocess_logits_for_metrics=preprocess_logits_for_metrics,\n",
        ")"
      ],
      "metadata": {
        "id": "ygCzzrgO7mSK"
      },
      "execution_count": null,
      "outputs": []
    },
    {
      "cell_type": "code",
      "source": [
        "# Start training!\n",
        "trainer.train()"
      ],
      "metadata": {
        "id": "8syb9LlF6LpD"
      },
      "execution_count": null,
      "outputs": []
    }
  ],
  "metadata": {
    "colab": {
      "name": "Fine-tune a language model",
      "provenance": [],
      "gpuType": "T4",
      "toc_visible": true,
      "include_colab_link": true
    },
    "kernelspec": {
      "display_name": "Python 3",
      "name": "python3"
    },
    "language_info": {
      "codemirror_mode": {
        "name": "ipython",
        "version": 3
      },
      "file_extension": ".py",
      "mimetype": "text/x-python",
      "name": "python",
      "nbconvert_exporter": "python",
      "pygments_lexer": "ipython3",
      "version": "3.10.8"
    },
    "accelerator": "GPU"
  },
  "nbformat": 4,
  "nbformat_minor": 0
}